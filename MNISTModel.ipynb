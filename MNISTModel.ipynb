{
  "nbformat": 4,
  "nbformat_minor": 0,
  "metadata": {
    "colab": {
      "name": "MNISTModel.ipynb",
      "provenance": [],
      "collapsed_sections": [],
      "include_colab_link": true
    },
    "kernelspec": {
      "name": "python3",
      "display_name": "Python 3"
    }
  },
  "cells": [
    {
      "cell_type": "markdown",
      "metadata": {
        "id": "view-in-github",
        "colab_type": "text"
      },
      "source": [
        "<a href=\"https://colab.research.google.com/github/jose98orellana/CPSC501A4/blob/master/MNISTModel.ipynb\" target=\"_parent\"><img src=\"https://colab.research.google.com/assets/colab-badge.svg\" alt=\"Open In Colab\"/></a>"
      ]
    },
    {
      "cell_type": "markdown",
      "metadata": {
        "id": "fotexGClFIqE",
        "colab_type": "text"
      },
      "source": [
        "References:\n",
        "https://www.tensorflow.org/tutorials/quickstart/beginner\n",
        "https://www.tensorflow.org/api_docs/python/"
      ]
    },
    {
      "cell_type": "code",
      "metadata": {
        "id": "m4eZDEIAx0aH",
        "colab_type": "code",
        "outputId": "9f27212a-f2eb-422d-cdc2-2e0682a8ff1d",
        "colab": {
          "base_uri": "https://localhost:8080/",
          "height": 34
        }
      },
      "source": [
        "try:\n",
        "  # %tensorflow_version only exists in Colab.\n",
        "  %tensorflow_version 2.x\n",
        "except Exception:\n",
        "  pass"
      ],
      "execution_count": 0,
      "outputs": [
        {
          "output_type": "stream",
          "text": [
            "TensorFlow 2.x selected.\n"
          ],
          "name": "stdout"
        }
      ]
    },
    {
      "cell_type": "code",
      "metadata": {
        "id": "ITCcIDcJx02Q",
        "colab_type": "code",
        "outputId": "e10ba7c3-23a5-4a80-fd3e-7eb77e5484cd",
        "colab": {
          "base_uri": "https://localhost:8080/",
          "height": 663
        }
      },
      "source": [
        "import tensorflow as tf\n",
        "from tensorflow import keras\n",
        "\n",
        "print(\"--Get data--\")\n",
        "mnist = tf.keras.datasets.mnist\n",
        "(x_train, y_train), (x_test, y_test) = mnist.load_data()\n",
        "\n",
        "print(\"--Process data--\")\n",
        "x_train, x_test = x_train / 255.0, x_test / 255.0\n",
        "\n",
        "print(\"--Make model--\")\n",
        "model = tf.keras.models.Sequential([\n",
        "  tf.keras.layers.Flatten(input_shape=(28, 28)),\n",
        "  tf.keras.layers.Dense(150, activation='relu'),\n",
        "  tf.keras.layers.Dropout(0.2),\n",
        "  tf.keras.layers.Dense(10, activation='softmax')\n",
        "])\n",
        "EPOCHS=15\n",
        "model.compile(optimizer = 'adam', loss='sparse_categorical_crossentropy', metrics=['accuracy'])\n",
        "\n",
        "print(\"--Fit model--\")\n",
        "model.fit(x_train, y_train, epochs=EPOCHS, verbose=2)"
      ],
      "execution_count": 0,
      "outputs": [
        {
          "output_type": "stream",
          "text": [
            "--Get data--\n",
            "Downloading data from https://storage.googleapis.com/tensorflow/tf-keras-datasets/mnist.npz\n",
            "11493376/11490434 [==============================] - 0s 0us/step\n",
            "--Process data--\n",
            "--Make model--\n",
            "--Fit model--\n",
            "Train on 60000 samples\n",
            "Epoch 1/15\n",
            "60000/60000 - 5s - loss: 0.2890 - accuracy: 0.9160\n",
            "Epoch 2/15\n",
            "60000/60000 - 4s - loss: 0.1334 - accuracy: 0.9603\n",
            "Epoch 3/15\n",
            "60000/60000 - 4s - loss: 0.1003 - accuracy: 0.9693\n",
            "Epoch 4/15\n",
            "60000/60000 - 4s - loss: 0.0812 - accuracy: 0.9752\n",
            "Epoch 5/15\n",
            "60000/60000 - 5s - loss: 0.0666 - accuracy: 0.9787\n",
            "Epoch 6/15\n",
            "60000/60000 - 4s - loss: 0.0596 - accuracy: 0.9814\n",
            "Epoch 7/15\n",
            "60000/60000 - 4s - loss: 0.0523 - accuracy: 0.9819\n",
            "Epoch 8/15\n",
            "60000/60000 - 4s - loss: 0.0481 - accuracy: 0.9842\n",
            "Epoch 9/15\n",
            "60000/60000 - 4s - loss: 0.0427 - accuracy: 0.9855\n",
            "Epoch 10/15\n",
            "60000/60000 - 4s - loss: 0.0374 - accuracy: 0.9876\n",
            "Epoch 11/15\n",
            "60000/60000 - 4s - loss: 0.0354 - accuracy: 0.9880\n",
            "Epoch 12/15\n",
            "60000/60000 - 4s - loss: 0.0333 - accuracy: 0.9879\n",
            "Epoch 13/15\n",
            "60000/60000 - 4s - loss: 0.0308 - accuracy: 0.9891\n",
            "Epoch 14/15\n",
            "60000/60000 - 4s - loss: 0.0290 - accuracy: 0.9901\n",
            "Epoch 15/15\n",
            "60000/60000 - 4s - loss: 0.0280 - accuracy: 0.9901\n"
          ],
          "name": "stdout"
        },
        {
          "output_type": "execute_result",
          "data": {
            "text/plain": [
              "<tensorflow.python.keras.callbacks.History at 0x7f1bcc68ce10>"
            ]
          },
          "metadata": {
            "tags": []
          },
          "execution_count": 3
        }
      ]
    },
    {
      "cell_type": "code",
      "metadata": {
        "id": "XnB-dDSMI8ag",
        "colab_type": "code",
        "outputId": "f0e1fe8c-d9c9-4019-d192-0b00ed4b482e",
        "colab": {
          "base_uri": "https://localhost:8080/",
          "height": 136
        }
      },
      "source": [
        "print(\"--Evaluate model--\")\n",
        "model_loss, model_acc = model.evaluate(x_test,  y_test, verbose=2)\n",
        "print(f\"Model Test Loss:    {model_loss:.2f}\")\n",
        "print(f\"Model Test Accuray: {model_acc*100:.1f}%\")\n",
        "model_tloss, model_tracc = model.evaluate(x_train,  y_train, verbose=2)\n",
        "print(f\"Model Train Loss:    {model_tloss:.2f}\")\n",
        "print(f\"Model Train Accuray: {model_tracc*100:.1f}%\")"
      ],
      "execution_count": 0,
      "outputs": [
        {
          "output_type": "stream",
          "text": [
            "--Evaluate model--\n",
            "10000/1 - 0s - loss: 0.0357 - accuracy: 0.9823\n",
            "Model Test Loss:    0.07\n",
            "Model Test Accuray: 98.2%\n",
            "60000/1 - 2s - loss: 0.0046 - accuracy: 0.9973\n",
            "Model Train Loss:    0.01\n",
            "Model Train Accuray: 99.7%\n"
          ],
          "name": "stdout"
        }
      ]
    },
    {
      "cell_type": "code",
      "metadata": {
        "id": "0Vc4ePZwERJW",
        "colab_type": "code",
        "colab": {}
      },
      "source": [
        "#Save Model to MNIST.h5\n",
        "from google.colab import files\n",
        "model.save('MNIST.h5')"
      ],
      "execution_count": 0,
      "outputs": []
    }
  ]
}